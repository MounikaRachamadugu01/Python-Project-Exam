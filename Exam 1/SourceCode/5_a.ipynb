{
 "cells": [
  {
   "cell_type": "code",
   "execution_count": 2,
   "metadata": {},
   "outputs": [
    {
     "name": "stdout",
     "output_type": "stream",
     "text": [
      "<class 'pandas.core.frame.DataFrame'>\n",
      "RangeIndex: 178 entries, 0 to 177\n",
      "Data columns (total 14 columns):\n",
      " #   Column                        Non-Null Count  Dtype  \n",
      "---  ------                        --------------  -----  \n",
      " 0   Alcohol                       178 non-null    float64\n",
      " 1   Malic acid                    178 non-null    float64\n",
      " 2   Ash                           178 non-null    float64\n",
      " 3   Alcalinity of ash             178 non-null    float64\n",
      " 4   Magnesium                     178 non-null    float64\n",
      " 5   Total phenols                 178 non-null    float64\n",
      " 6   Flavanoids                    178 non-null    float64\n",
      " 7   Nonflavanoid phenols          178 non-null    float64\n",
      " 8   Proanthocyanins               178 non-null    float64\n",
      " 9   Color intensity               178 non-null    float64\n",
      " 10  Hue                           178 non-null    float64\n",
      " 11  OD280/OD315 of diluted wines  178 non-null    float64\n",
      " 12  Proline                       178 non-null    float64\n",
      " 13  Wine Type                     178 non-null    object \n",
      "dtypes: float64(13), object(1)\n",
      "memory usage: 19.6+ KB\n",
      "\n",
      " Data types: Alcohol                         float64\n",
      "Malic acid                      float64\n",
      "Ash                             float64\n",
      "Alcalinity of ash               float64\n",
      "Magnesium                       float64\n",
      "Total phenols                   float64\n",
      "Flavanoids                      float64\n",
      "Nonflavanoid phenols            float64\n",
      "Proanthocyanins                 float64\n",
      "Color intensity                 float64\n",
      "Hue                             float64\n",
      "OD280/OD315 of diluted wines    float64\n",
      "Proline                         float64\n",
      "Wine Type                        object\n",
      "dtype: object \n",
      "\n",
      "Number of rows and columns: (178, 14) \n",
      "\n"
     ]
    },
    {
     "data": {
      "image/png": "[encoded data removed]",
      "text/plain": [
       "<Figure size 432x288 with 1 Axes>"
      ]
     },
     "metadata": {
      "needs_background": "light"
     },
     "output_type": "display_data"
    }
   ],
   "source": [
    "\"\"\"\n",
    "\n",
    "Pick any dataset online for the classification problem which includes both numeric and non-numeric features\n",
    " a.Perform exploratory data analysis on the data set (it can be anything on your choice that gives insight about the dataset)\n",
    "\n",
    "\"\"\"\n",
    "\n",
    "import numpy as np\n",
    "import pandas as pd\n",
    "import matplotlib.pyplot as plt\n",
    "import seaborn as sns\n",
    "\n",
    "wine_data = pd.read_csv('C:/Users/Tejaswi/Documents/GitHub/Python-Project-Exam/Exam 1/SourceCode/wine_dataset.csv')\n",
    "\n",
    "# display the dataset info\n",
    "wine_data.info()\n",
    "# show data types for each column\n",
    "print(\"\\n Data types:\", wine_data.dtypes, \"\\n\")\n",
    "\n",
    "# Total number of rows and columns\n",
    "print(\"Number of rows and columns:\", wine_data.shape , \"\\n\")\n",
    "\n",
    "x = wine_data['Alcohol']\n",
    "y = wine_data['Wine Type']\n",
    "\n",
    "# Generating scatter plot\n",
    "plt.scatter(x, y, alpha=.75, color='b')\n",
    "plt.title(\"Scatter Plot between Wine Type and Alcohol fields\")\n",
    "plt.xlabel(\"Alcohol\")\n",
    "plt.ylabel(\"Wine type\")\n",
    "plt.show()"
   ]
  }
 ],
 "metadata": {
  "kernelspec": {
   "display_name": "Python 3",
   "language": "python",
   "name": "python3"
  },
  "language_info": {
   "codemirror_mode": {
    "name": "ipython",
    "version": 3
   },
   "file_extension": ".py",
   "mimetype": "text/x-python",
   "name": "python",
   "nbconvert_exporter": "python",
   "pygments_lexer": "ipython3",
   "version": "3.7.6"
  }
 },
 "nbformat": 4,
 "nbformat_minor": 4
}
